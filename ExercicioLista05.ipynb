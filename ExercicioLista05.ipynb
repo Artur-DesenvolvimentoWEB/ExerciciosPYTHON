{
  "nbformat": 4,
  "nbformat_minor": 0,
  "metadata": {
    "colab": {
      "name": "ExercicioLista05",
      "provenance": [],
      "collapsed_sections": [],
      "authorship_tag": "ABX9TyO6GJnzCjZmmpiXmD+Ehpsx",
      "include_colab_link": true
    },
    "kernelspec": {
      "name": "python3",
      "display_name": "Python 3"
    }
  },
  "cells": [
    {
      "cell_type": "markdown",
      "metadata": {
        "id": "view-in-github",
        "colab_type": "text"
      },
      "source": [
        "<a href=\"https://colab.research.google.com/github/Artur-DesenvolvimentoWEB/ExerciciosPYTHON/blob/main/ExercicioLista05.ipynb\" target=\"_parent\"><img src=\"https://colab.research.google.com/assets/colab-badge.svg\" alt=\"Open In Colab\"/></a>"
      ]
    },
    {
      "cell_type": "code",
      "metadata": {
        "id": "x4OGZurJ7mst",
        "colab": {
          "base_uri": "https://localhost:8080/"
        },
        "outputId": "95e293f5-3019-4049-e7f2-ee94a45a34d8"
      },
      "source": [
        "# Disciplina: Probabilidade e Estatística\n",
        "# Aluno: Artur Campos Batista - 2014290012\n",
        "# Lista 5\n",
        "import statistics #importando biblioteca estatistica\n",
        "\n",
        "lista = [10, 13, 17, 9, 8, 11, 13, 7] #DECLARANDO LISTA COM OS VALORES INFORMADOS (lembrando que há possibilidade de simplificar todos os codigos usando o modulo import statistics)\n",
        "\n",
        "soma_da_lista = sum(lista) /8 #soma os valores da lista e divide pela quantidade de itens da lista - (media aritmetica)\n",
        "print(\"A média aritimetica é:\", soma_da_lista)\n",
        "\n",
        "harmonic = 8/(1/10 + 1/13 + 1/17 + 1/9 + 1/8 + 1/11 + 1/13 + 1/7) #soma os valores inversos da lista, dividindo 8(quantidade de itens) pelo valor obtido - (media harmonica)\n",
        "print(\"A média harmonica é:\", harmonic)\n",
        "\n",
        "geometry = (10 * 13 * 17 * 9 * 8 * 11 * 13 * 7) ** (1/8)  #multiplica todos os valores da lista e obtem a raiz de \"n\" sendo \"n\" a quantidade de valores na lista(8) - media geometrica\n",
        "print(\"A média geométrica é:\", geometry)\n",
        "\n",
        "moda = statistics.mode(lista) #utilizando o modulo statistics para se obter a moda \n",
        "print(\"A moda é:\", moda)\n",
        "\n",
        "variancia = statistics.variance(lista)#utilizando o modulo statistics para se obter a variância\n",
        "print(\"A variancia é:\", variancia)\n",
        "\n",
        "desvio = statistics.stdev(lista)#utilizando o modulo statistics para se obter o desvio padrão\n",
        "print(\"O desvio padrão é:\", desvio)\n",
        "\n",
        "\n"
      ],
      "execution_count": 79,
      "outputs": [
        {
          "output_type": "stream",
          "text": [
            "A média aritimetica é: 11.0\n",
            "A média harmonica é: 10.223027770053967\n",
            "A média geométrica é: 10.599121142601566\n",
            "A moda é: 13\n",
            "A variancia é: 10.571428571428571\n",
            "O desvio padrão é: 3.251373336211726\n"
          ],
          "name": "stdout"
        }
      ]
    },
    {
      "cell_type": "code",
      "metadata": {
        "id": "brjCvkbhxtiP",
        "colab": {
          "base_uri": "https://localhost:8080/"
        },
        "outputId": "0a104359-b041-44fe-85d4-8953c0e68901"
      },
      "source": [
        "# Disciplina: Probabilidade e Estatística\n",
        "# Aluno: Artur Campos Batista - 2014290012\n",
        "# Lista 5\n",
        "import statistics #importando biblioteca estatistica\n",
        "\n",
        "lista = [67, 75, 63, 72, 77, 78, 81, 77, 80] #DECLARANDO LISTA COM OS VALORES INFORMADOS (lembrando que há possibilidade de simplificar todos os codigos usando o modulo import statistics)\n",
        "\n",
        "soma_da_lista = sum(lista) /9 #soma os valores da lista e divide pela quantidade de itens da lista - (media aritmetica)\n",
        "print(\"A média aritimetica é:\", soma_da_lista)\n",
        "\n",
        "harmonic = 9/(1/67 + 1/75 + 1/63 + 1/72 + 1/77 + 1/78 + 1/81 + 1/77 + 1/80) #soma os valores inversos da lista, dividindo 9(quantidade de itens) pelo valor obtido - (media harmonica)\n",
        "print(\"A média harmonica é:\", harmonic)\n",
        "\n",
        "geometry = (67 * 75 * 63 * 72 * 77 * 78 * 81 * 77 * 80) ** (1/9)  #multiplica todos os valores da lista e obtem a raiz de \"n\" sendo \"n\" a quantidade de valores na lista(8) - media geometrica\n",
        "print(\"A média geométrica é:\", geometry)\n",
        "\n",
        "moda = statistics.mode(lista) #utilizando o modulo statistics para se obter a moda \n",
        "print(\"A moda é:\", moda)\n",
        "\n",
        "mediana = statistics.median(lista)#utilizando o modulo statistics para se obter o desvio padrão\n",
        "print(\"A mediana é:\", mediana)\n",
        "\n",
        "variancia = statistics.variance(lista)#utilizando o modulo statistics para se obter a variância\n",
        "print(\"A variancia é:\", variancia)\n",
        "\n",
        "desvio = statistics.stdev(lista)#utilizando o modulo statistics para se obter o desvio padrão\n",
        "print(\"O desvio padrão é:\", desvio)\n",
        "\n"
      ],
      "execution_count": 80,
      "outputs": [
        {
          "output_type": "stream",
          "text": [
            "A média aritimetica é: 74.44444444444444\n",
            "A média harmonica é: 73.9761521541457\n",
            "A média geométrica é: 74.21566351300045\n",
            "A moda é: 77\n",
            "A mediana é: 77\n",
            "A variancia é: 36.52777777777778\n",
            "O desvio padrão é: 6.043821454822915\n"
          ],
          "name": "stdout"
        }
      ]
    },
    {
      "cell_type": "code",
      "metadata": {
        "id": "TbSB3nyNHx2f",
        "colab": {
          "base_uri": "https://localhost:8080/"
        },
        "outputId": "452644c2-1438-4bef-b950-19267207af90"
      },
      "source": [
        "# Disciplina: Probabilidade e Estatística\n",
        "# Aluno: Artur Campos Batista - 2014290012\n",
        "# Lista 5\n",
        "import statistics #importando biblioteca estatistica\n",
        "lista = [4.0, 4.5, 5.0, 5.0, 5.0, 5.5, 6.0, 6.0, 6.5, 6.5, 6.5,\n",
        "        6.5, 7.0, 7.0, 7.0, 7.0, 7.0, 7.0, 7.5, 8.5, 9.0, 9.0,\n",
        "        9.0, 9.5, 10.0, 10.0, 10.5, 10.5, 11.0, 12.0, 12.5,13.0, 13.0]\n",
        "\n",
        "media = sum(lista) / len(lista) #obtendo a media somando todos valores da lista e dividindo pelo total de itens\n",
        "print(\"A média dos dados em rol é de: %.1f;\" %media)\n",
        "desvio = statistics.stdev(lista)#utilizando o modulo statistics para se obter o desvio padrão\n",
        "print(\"O desvio padrão verificado é de: %.2f;\" %desvio)\n",
        "cv = (desvio / media) * 100 #formula coeficiente de variação \n",
        "print(\"Logo, o coeficiente de variação será de %.2f por cento.\" %cv)\n"
      ],
      "execution_count": 81,
      "outputs": [
        {
          "output_type": "stream",
          "text": [
            "A média dos dados em rol é de: 8.0;\n",
            "O desvio padrão verificado é de: 2.54;\n",
            "Logo, o coeficiente de variação será de 31.72 por cento.\n"
          ],
          "name": "stdout"
        }
      ]
    },
    {
      "cell_type": "code",
      "metadata": {
        "id": "w1aYrT-2MUaz",
        "colab": {
          "base_uri": "https://localhost:8080/"
        },
        "outputId": "86f112a7-efec-4442-a62b-8ca8fc008621"
      },
      "source": [
        "# Disciplina: Probabilidade e Estatística\n",
        "# Aluno: Artur Campos Batista - 2014290012\n",
        "# Lista 5\n",
        "import statistics #importando biblioteca estatistica\n",
        "lista = [12,15,18,22,17,14,18,23,29,12]\n",
        "\n",
        "media = sum(lista) / len(lista) #obtendo a media somando todos valores da lista e dividindo pelo total de itens\n",
        "print(\"A média de produção em toneladas é de: %.1f\" %media)\n",
        "mediana = statistics.median(lista)#utilizando o modulo statistics para se obter o desvio padrão\n",
        "print(\"A mediana é de: %.1f\" %mediana)\n",
        "desvio = statistics.stdev(lista)#utilizando o modulo statistics para se obter o desvio padrão\n",
        "print(\"E o desvio padrão verificado é de: %.2f\" %desvio)\n",
        "\n"
      ],
      "execution_count": 82,
      "outputs": [
        {
          "output_type": "stream",
          "text": [
            "A média de produção em toneladas é de: 18.0\n",
            "A mediana é de: 17.5\n",
            "E o desvio padrão verificado é de: 5.37\n"
          ],
          "name": "stdout"
        }
      ]
    },
    {
      "cell_type": "code",
      "metadata": {
        "id": "gNidIILWfxif"
      },
      "source": [
        "# Disciplina: Probabilidade e Estatística\n",
        "# Aluno: Artur Campos Batista - 2014290012\n",
        "# Lista 5\n",
        "import statistics #importando biblioteca estatistica\n",
        "from scipy.stats.mstats import gmean #importando função gmean para calcular a media geometrica\n",
        "from scipy.stats.mstats import mode #importando biblioteca estatistica para calcular a moda\n",
        "\n",
        "\n",
        "a = [] #declarando lista vazia\n",
        "numero = float (input( \"Digite o valor do numero entre 0 e 10: \")) #solicita valor\n",
        "while True: #laço de repetição \n",
        "  if numero >= 0 and numero <= 10: #condição para inserir numeros na lista vazia\n",
        "   a.append(numero) #inserindo digito na lista declarada\n",
        "   print(a)\n",
        "   numero = float (input( \"Digite o valor do numero entre 0 e 10: \"))\n",
        "  \n",
        "  else: #condição caso o numero seja menor que zero e maior que 10\n",
        "    if numero < 0 and numero > 10: #\n",
        "      print(\"O valor deve ser um numero entre 0 e 10!!!!! Tente novamente...\")\n",
        "      print(a)\n",
        "      numero = float (input( \"Digite o valor do numero entre 0 e 10: \"))\n",
        "            \n",
        "    elif numero == -999: #condição de parada\n",
        "      aritm = statistics.mean(a)  #soma os valores da lista e divide pela quantidade de itens da lista - (media aritmetica)\n",
        "      print(\"A média aritimetica é: %.2f\" %aritm)\n",
        "\n",
        "      harmonic = statistics.harmonic_mean(a) #soma os valores inversos da lista, dividindo (quantidade de itens) pelo valor obtido - (media harmonica)\n",
        "      print(\"A média harmonica é: %.2f\" %harmonic)\n",
        "\n",
        "      geometry = gmean(a) #multiplica todos os valores da lista e obtem a raiz de \"n\" sendo \"n\" a quantidade de valores na lista - media geometrica\n",
        "      print(\"A média geométrica é: %.2f\" %geometry)\n",
        "          \n",
        "      moda = mode(a)#utilizando o modulo statistics para se obter a moda (tentei utilizar o statistics.mode() porém gera erro caso hajam somente valores distintos)\n",
        "      print(\"A moda é:\", moda)\n",
        "\n",
        "      mediana = statistics.median(a)#utilizando o modulo statistics para se obter a mediana\n",
        "      print(\"A mediana é: %.2f\" %mediana)\n",
        "\n",
        "      variancia = statistics.variance(a)#utilizando o modulo statistics para se obter a variância\n",
        "      print(\"A variancia é: %.2f\" %variancia)\n",
        "\n",
        "      desvio = statistics.stdev(a)#utilizando o modulo statistics para se obter o desvio padrão\n",
        "      print(\"O desvio padrão é: %.2f\" %desvio)\n",
        "\n",
        "      cv = (desvio / aritm) * 100 #formula coeficiente de variação \n",
        "      print(\"Logo, o coeficiente de variação será de %.2f por cento.\" %cv)\n",
        "      print(\"Obs.: As notas declaradas para realização do calculo são:\", a)\n",
        "      break                         \n",
        "                   \n",
        "    elif numero >= 0 and numero <= 10:\n",
        "        print(a)\n",
        "        a.append(numero)\n",
        "                \n",
        "    else:\n",
        "        print(\"O valor deve ser um numero entre 0 e 10!!!!! Tente novamente...\")\n",
        "        numero = float (input( \"Digite o valor do numero entre 0 e 10: \"))"
      ],
      "execution_count": null,
      "outputs": []
    },
    {
      "cell_type": "code",
      "metadata": {
        "id": "9SkBpmvyPK97"
      },
      "source": [
        "# Disciplina: Probabilidade e Estatística\n",
        "# Aluno: Artur Campos Batista - 2014290012\n",
        "# Lista 5\n",
        "\n",
        "a = [] #declarando lista vazia\n",
        "contador = 0\n",
        "numero = float (input( \"Digite o valor da nota entre 0 e 10: \")) #solicita valor\n",
        "while True:#laço de repetição\n",
        "  if numero >= 0 and numero <= 10: #condição para inserir numeros na lista vazia\n",
        "   a.append(numero) #inserindo digito na lista declarada\n",
        "   contador = contador + 1 #declarando um contador dentro da condição\n",
        "   if contador == 3: #limite de interações: 3\n",
        "     resultado = ((3*a[0])+(4*a[1])+(3*a[2])) / 10.0 #formula média ponderada\n",
        "     print(\"As notas declaradas foram:\", a)\n",
        "     print(\"A media ponderada destas 3 notas informadas é de\", resultado)\n",
        "     break #encerra o programa\n",
        "   numero = float (input( \"Digite o valor da nota entre 0 e 10: \"))\n",
        "   \n",
        "  elif numero > 10 or numero < 0 : #solicita um novo valor caso não atenda a condição informada\n",
        "    print(\"As notas declaradas devem estar entre 0 e 10, tente novamente...\")\n",
        "    numero = float (input( \"Digite o valor da nota entre 0 e 10: \"))\n",
        "  "
      ],
      "execution_count": null,
      "outputs": []
    },
    {
      "cell_type": "code",
      "metadata": {
        "id": "QsLULDRTJQUk"
      },
      "source": [
        ""
      ],
      "execution_count": null,
      "outputs": []
    }
  ]
}