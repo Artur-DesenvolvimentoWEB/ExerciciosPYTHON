{
  "nbformat": 4,
  "nbformat_minor": 0,
  "metadata": {
    "colab": {
      "name": "ExercicioLista04.ipynb",
      "provenance": [],
      "collapsed_sections": [],
      "authorship_tag": "ABX9TyOisk0sNOnPi4PQYoTOa3CR",
      "include_colab_link": true
    },
    "kernelspec": {
      "name": "python3",
      "display_name": "Python 3"
    }
  },
  "cells": [
    {
      "cell_type": "markdown",
      "metadata": {
        "id": "view-in-github",
        "colab_type": "text"
      },
      "source": [
        "<a href=\"https://colab.research.google.com/github/Artur-DesenvolvimentoWEB/ExerciciosPYTHON/blob/main/ExercicioLista04.ipynb\" target=\"_parent\"><img src=\"https://colab.research.google.com/assets/colab-badge.svg\" alt=\"Open In Colab\"/></a>"
      ]
    },
    {
      "cell_type": "code",
      "metadata": {
        "id": "p5ppfrGlRU4l"
      },
      "source": [
        "# Disciplina: Probabilidade e Estatística\n",
        "# Aluno: Artur Campos Batista - 2014290012\n",
        "# Lista 4\n",
        "\n",
        "nlados = int (input( \"Quantos lados têm o poligono regular escolhido? Digite: \")) #recebe o numero de lados\n",
        "medidaLado = float (input(\"Digite a medida de um destes lados: \")) #recebe a medida de um destes lados\n",
        "\n",
        "if nlados == 3: #função que calcula a área do poligono, caso o numero de lados for 3\n",
        "  area = ((medidaLado ** 2) * (3 ** (1/2))) /4 #formula de calculo da area de um triangulo \n",
        "  print(\"Este TRIANGULO tem uma área de: %.2f cm²\" %area) #printa resultado do programa\n",
        "\n",
        "elif nlados == 4: #função que calcula a área do poligono, caso o numero de lados for 4\n",
        "  area = medidaLado ** 2 #formula de calculo da area de um quadrado \n",
        "  print(\"Este QUADRADO tem uma área de: %.2f cm²\" %area) #printa resultado do programa\n",
        "\n",
        "elif nlados == 5: #função que printa pentagono caso digitem o valor 5\n",
        "  print(\"Isso é um PENTÁGONO !!!!!\")\n",
        "\n",
        "elif nlados != 5 or nlados != 4 or nlados != 3:\n",
        "  print('Os valores informados não correspondem a um poligono regular, escreva o numero de lados corretamente e tente novamente mais tarde.')\n",
        "\n",
        "  "
      ],
      "execution_count": null,
      "outputs": []
    },
    {
      "cell_type": "code",
      "metadata": {
        "id": "w_FlLN3qon3q"
      },
      "source": [
        "# Disciplina: Probabilidade e Estatística\n",
        "# Aluno: Artur Campos Batista - 2014290012\n",
        "# Lista 4\n",
        "\n",
        "nlados = int (input( \"Quantos lados têm o poligono regular escolhido? Digite: \")) #recebe o numero de lados\n",
        "medidaLado = float (input(\"Digite a medida de um destes lados: \")) #recebe a medida de um destes lados\n",
        "\n",
        "if nlados < 3: #função que imprime mensagem caso o numero de lados seja menor que 3\n",
        "  print(\"Isso ai não é poligono...\")\n",
        "\n",
        "elif nlados > 5: #função que imprime mensagem caso o numero de lados seja maior que 5\n",
        "  print(\"Poligono não identificado, tente novamente...\")\n",
        "\n",
        "elif nlados == 3: #função que calcula a área do poligono, caso o numero de lados for 3\n",
        "  area = ((medidaLado ** 2) * (3 ** (1/2))) /4 #formula de calculo da area de um triangulo \n",
        "  print(\"Este TRIANGULO tem uma área de: %.2f cm²\" %area) #printa resultado do programa\n",
        "\n",
        "elif nlados == 4: #função que calcula a área do poligono, caso o numero de lados for 4\n",
        "  area = medidaLado ** 2 #formula de calculo da area de um triangulo \n",
        "  print(\"Este QUADRADO tem uma área de: %.2f cm²\" %area) #printa resultado do programa\n",
        "\n",
        "elif nlados == 5: #função que printa pentagono caso digitem o valor 5\n",
        "  print(\"Isso é um PENTÁGONO !!!!!\")\n",
        "\n",
        "  "
      ],
      "execution_count": null,
      "outputs": []
    },
    {
      "cell_type": "code",
      "metadata": {
        "id": "KfW7QJZvt0Lz"
      },
      "source": [
        "# Disciplina: Probabilidade e Estatística\n",
        "# Aluno: Artur Campos Batista - 2014290012\n",
        "# Lista 4\n",
        "\n",
        "numero1 = int (input( \"Digite o primeiro número: \")) #recebe o primeiro numero\n",
        "numero2 = int (input( \"Digite o segundo número: \")) #recebe o segundo numero\n",
        "numero3 = int (input( \"Digite o terceiro número: \")) #recebe o terceiro numero\n",
        "\n",
        "if numero1 > numero2 and numero1 > numero3: #condição para printar o numero 1 como maior numero\n",
        "  numeroMaior = numero1 \n",
        "  print(\"O maior numero é o numero %2i\" %numeroMaior)\n",
        "\n",
        "elif numero2 > numero1 and numero2 > numero3: #condição para printar o numero 2 como maior numero\n",
        "  numeroMaior = numero2\n",
        "  print(\"O maior numero é o numero %2i\" %numeroMaior)\n",
        "  \n",
        "elif numero3 > numero2 and numero3 > numero1:#condição para printar o numero 3 como maior numero\n",
        "  numeroMaior = numero3\n",
        "  print(\"O maior numero é o numero %2i\" %numeroMaior)\n",
        "\n",
        "\n",
        "\n",
        "\n"
      ],
      "execution_count": null,
      "outputs": []
    },
    {
      "cell_type": "code",
      "metadata": {
        "id": "K6Cnj0Lmz0HH"
      },
      "source": [
        "# Disciplina: Probabilidade e Estatística\n",
        "# Aluno: Artur Campos Batista - 2014290012\n",
        "# Lista 4\n",
        "\n",
        "ado1 = float (input( \"Digite o valor em centímentros para o primeiro lado do triangulo: \")) #recebe o primeiro lado\n",
        "lado2 = float (input( \"Digite o valor em centímentros para o segundo lado do triangulo: \")) #recebe o segundo lado\n",
        "lado3 = float (input( \"Digite o valor em centímentros para o terceiro lado do triangulo: \")) #recebe o terceiro numero\n",
        "\n",
        "if lado1 == lado2 and lado2 == lado3: #condição para printar equilaterio\n",
        "  print(\" Este Triangulo é um triangulo EQUILATERO\")\n",
        "\n",
        "elif lado1 == lado2 or lado1 == lado3 or lado2 == lado3: #condição para printar isosceles\n",
        "  print(\" Este Triangulo é um triangulo ISOSCELES\")\n",
        "\n",
        "elif lado1 != lado2 and lado2 != lado3 and lado3 != lado1: #condição para printar escaleno\n",
        "  print(\" Este Triangulo é um triangulo ESCALENO\")\n",
        "\n",
        "\n",
        "\n"
      ],
      "execution_count": null,
      "outputs": []
    },
    {
      "cell_type": "code",
      "metadata": {
        "id": "18h-BjSE6yGw"
      },
      "source": [
        "# Disciplina: Probabilidade e Estatística\n",
        "# Aluno: Artur Campos Batista - 2014290012\n",
        "# Lista 4\n",
        "\n",
        "lado1 = float (input( \"Digite o valor em centímentros para o primeiro lado do triangulo: \")) #recebe o primeiro lado\n",
        "lado2 = float (input( \"Digite o valor em centímentros para o segundo lado do triangulo: \")) #recebe o segundo lado\n",
        "lado3 = float (input( \"Digite o valor em centímentros para o terceiro lado do triangulo: \")) #recebe o terceiro lado\n",
        "\n",
        "if lado1 == lado2 and lado2 == lado3: #condição para printar equilaterio\n",
        "  print(\" Este Triangulo é um triangulo EQUILATERO\")\n",
        "\n",
        "elif lado1 == lado2 or lado1 == lado3 or lado2 == lado3: #condição para printar isosceles\n",
        "  print(\" Este Triangulo é um triangulo ISOSCELES\")\n",
        "\n",
        "elif lado1 != lado2 and lado2 != lado3 and lado3 != lado1: #condição para printar escaleno\n",
        "  print(\" Este Triangulo é um triangulo ESCALENO\")"
      ],
      "execution_count": null,
      "outputs": []
    },
    {
      "cell_type": "code",
      "metadata": {
        "id": "iyOdtWif-jmc"
      },
      "source": [
        "# Disciplina: Probabilidade e Estatística\n",
        "# Aluno: Artur Campos Batista - 2014290012\n",
        "# Lista 4\n",
        "\n",
        "angulo1 = int (input( \"Digite o valor do primeiro ângulo do triangulo: \")) #recebe o primeiro angulo\n",
        "angulo2 = int (input( \"Digite o valor do segundo ângulo do triangulo: \")) #recebe o segundo angulo\n",
        "angulo3 = int (input( \"Digite o valor do terceiro ângulo do triangulo: \")) #recebe o terceiro angulo\n",
        "\n",
        "\n",
        "if angulo1 == 90 or angulo2 == 90 or angulo3 == 90: #condição para printar Retângulo\n",
        "  print(\" Este Triangulo é um triangulo retângulo\")\n",
        "\n",
        "elif angulo1 < 90 and angulo2 < 90 and angulo3 < 90: #condição para printar Acutângulo\n",
        "  print(\" Este Triangulo é um triangulo acutângulo\")\n",
        "\n",
        "\n",
        "elif angulo1 or angulo2 or angulo3 > 90: #condição para printar obtusângulo\n",
        "  print(\" Este Triangulo é um triangulo obtusângulo\")\n",
        "\n"
      ],
      "execution_count": null,
      "outputs": []
    },
    {
      "cell_type": "code",
      "metadata": {
        "id": "uQwQti-FVE4W"
      },
      "source": [
        "# Disciplina: Probabilidade e Estatística\n",
        "# Aluno: Artur Campos Batista - 2014290012\n",
        "# Lista 4\n",
        "numero = int (input( \"Digite o valor do numero: \")) #recebe o primeiro numero\n",
        "\n",
        "for numero in range(0,numero+1):#printa tudo de 0 até o numero digitado\n",
        "  print(\"%2i\" %numero)\n",
        "\n",
        "  "
      ],
      "execution_count": null,
      "outputs": []
    },
    {
      "cell_type": "code",
      "metadata": {
        "id": "fLkH3Ve6jn9t"
      },
      "source": [
        "# Disciplina: Probabilidade e Estatística\n",
        "# Aluno: Artur Campos Batista - 2014290012\n",
        "# Lista 4\n",
        "\n",
        "numero = int (input( \"Digite o valor do numero entre 1 e 4: \")) #recebe um numero de 1 a 4\n",
        "\n",
        "if numero == 1 or numero == 2 or numero == 3 or numero == 4: #valida se o numero é 1,2,3 ou 4\n",
        "        print(\"Acesso concedido\")\n",
        "       \n",
        "elif numero > 4 or numero < 1: # valida se o numero é maior que 4 ou menor que 1\n",
        "  while True: #laço de repetição para retornar ao primeiro comando input caso o usuário digite um numero incorreto\n",
        "      print(\"Numero inválido!\")\n",
        "      print(\"Tente novamente!\")\n",
        "      numero = int (input( \"Digite o valor do numero entre 1 e 4: \")) #recebe novamente o digito\n",
        "      \n",
        "      if numero == 1 or numero == 2 or numero == 3 or numero == 4: #verifica novamente se o digito está correto\n",
        "        print(\"Acesso concedido\")\n",
        "        break #encerra o loop\n",
        "\n",
        "      \n",
        "  \n",
        "      \n",
        "\n",
        "  "
      ],
      "execution_count": null,
      "outputs": []
    },
    {
      "cell_type": "code",
      "metadata": {
        "id": "PWdd5OGaB2mh"
      },
      "source": [
        "# Disciplina: Probabilidade e Estatística\n",
        "# Aluno: Artur Campos Batista - 2014290012\n",
        "# Lista 4\n",
        "lista = [] #declarando uma lista vazia\n",
        "while True: #criando laço para guardar os inputs na lista enquanto ela existir\n",
        "    n = int(input(\"Digite os números ou pressione '0' para encerrar: \")) #coletando os dados digitados para inserir na lista\n",
        "    lista.append(n) #cria um item na lista a cada digito do usuario\n",
        "    if n == 0: #condição para parar o programa\n",
        "        print (\"O maior número digitado é: \", max(lista)) \n",
        "        break"
      ],
      "execution_count": null,
      "outputs": []
    },
    {
      "cell_type": "code",
      "metadata": {
        "id": "tc5mOBN8FUqL"
      },
      "source": [
        "# Disciplina: Probabilidade e Estatística\n",
        "# Aluno: Artur Campos Batista - 2014290012\n",
        "# Lista 4\n",
        "numero = int (input( \"Digite um numero de 4 digitos (Ex: 1234) para decompormos este numero: \")) #recebe um numero de 4 digitos\n",
        "n = str (numero) #declarando uma string para armazenar os dados do numero informado\n",
        "\n",
        "if numero <1000 or numero >9999: #condição caso o numero não tenha 4 digitos  \n",
        "  while True: #laço de repetição para toda vez que o usuário digitar um numero que não contenha 4 digitos\n",
        "    print(\"O numero informado não têm 4 digitos! Tente novamente\")\n",
        "    numero = int (input( \"Digite um numero de 4 digitos (Ex: 1234) para decompormos este numero: \")) #recebe um numero de 4 digitos     \n",
        "    n = str (numero) #declarando uma string para armazenar os dados do numero informado\n",
        "    \n",
        "    if numero >= 1000 and numero <= 9999: #condição para identificar se o numero tem 4 digitos  novamente\n",
        "      print(\"Fazendo varredura do numero informado, aguarde... Numero: {}\" .format(numero)) #utilizando .format para inserir o numero na string\n",
        "      print(\"Unidade: {}\" .format (n[3])) #imprimindo a string na posição 3\n",
        "      print(\"Dezena: {}\" .format (n[2]))  #imprimindo a string na posição 2\n",
        "      print(\"Centena: {}\" .format (n[1])) #imprimindo a string na posição 1\n",
        "      print(\"Milhar: {}\" .format (n[0])) #imprimindo a string na posição 0\n",
        "      break\n",
        "\n",
        "elif numero >= 1000 and numero <= 9999: #condição para identificar se o numero tem 4 digitos\n",
        "   print(\"Fazendo varredura do numero informado, aguarde... Numero: {} \" .format(numero)) #utilizando .format para inserir o numero na string\n",
        "   print(\"Unidade: {}\" .format (n[3])) #imprimindo a string na posição 3\n",
        "   print(\"Dezena: {}\" .format (n[2]))  #imprimindo a string na posição 2\n",
        "   print(\"Centena: {}\" .format (n[1])) #imprimindo a string na posição 1\n",
        "   print(\"Milhar: {}\" .format (n[0])) #imprimindo a string na posição 0\n"
      ],
      "execution_count": null,
      "outputs": []
    }
  ]
}